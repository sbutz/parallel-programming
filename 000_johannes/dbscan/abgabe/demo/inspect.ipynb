{
 "cells": [
  {
   "cell_type": "code",
   "execution_count": null,
   "id": "b28679a1-60c7-4aac-baaf-8b00188782af",
   "metadata": {},
   "outputs": [],
   "source": [
    "import os\n",
    "import subprocess\n",
    "import glob\n",
    "import pandas as pd\n",
    "import io\n",
    "import matplotlib.pyplot as plt\n",
    "import json\n",
    "import re"
   ]
  },
  {
   "cell_type": "code",
   "execution_count": null,
   "id": "1013d3dd-d0d8-4f5a-93d3-7c38fb4eef29",
   "metadata": {},
   "outputs": [],
   "source": [
    "fileNames = glob.glob(os.path.join('..', 'measurements', '20250226-111240991', '*.json'))\n",
    "dcts = []\n",
    "for fileName in fileNames:\n",
    "    with open(fileName, 'r') as file:\n",
    "        dct = json.load(file)\n",
    "        dct['name'] = os.path.basename(fileName)\n",
    "        dcts.append(dct)\n",
    "        \n",
    "for dct in dcts:        \n",
    "    df = pd.DataFrame(dct['output'])\n",
    "    dfsWithNames.append({ 'name': dct['name'], 'df': df })"
   ]
  },
  {
   "cell_type": "code",
   "execution_count": null,
   "id": "14ff00c6-ba45-4179-affe-f75f76e11522",
   "metadata": {},
   "outputs": [],
   "source": [
    "for entry in dfsWithNames:\n",
    "    df = entry['df']\n",
    "    name = entry['name']\n",
    "    clusters = df.groupby('cluster_id')\n",
    "\n",
    "    plt.figure(figsize=(4,3))\n",
    "    for clusterId, grp in clusters:\n",
    "        plt.scatter(grp['x'], grp['y'], s=4)\n",
    "        plt.xlim(0,44)\n",
    "        plt.ylim(0,25)\n",
    "        plt.title(name)\n",
    "    plt.plot()"
   ]
  },
  {
   "cell_type": "code",
   "execution_count": null,
   "id": "3fda125a-269b-432c-a91e-bdac6457278f",
   "metadata": {},
   "outputs": [],
   "source": [
    "def makeProfileDf():\n",
    "\n",
    "    def extractNClusters(s):\n",
    "        pattern = r'.*-([^-]+)-(\\d+)-(\\d+)-(\\d+).json'\n",
    "        match = re.match(pattern, s)\n",
    "        kernel, nClusters, nPoints, idx = match.groups()\n",
    "        return nClusters\n",
    "        \n",
    "    def extractNPoints(s):\n",
    "        pattern = r'.*-([^-]+)-(\\d+)-(\\d+)-(\\d+).json'\n",
    "        match = re.match(pattern, s)\n",
    "        kernel, nClusters, nPoints, idx = match.groups()\n",
    "        return nPoints\n",
    "        \n",
    "    def extractKernel(s):\n",
    "        pattern = r'.*-([^-]+)-(\\d+)-(\\d+)-(\\d+).json'\n",
    "        match = re.match(pattern, s)\n",
    "        kernel, nClusters, nPoints, idx = match.groups()\n",
    "        return kernel\n",
    "\n",
    "    nameLst = [ dct['name'] for dct in dcts ]\n",
    "    nClustersLst = [ int(extractNClusters(dct['name'])) for dct in dcts ]\n",
    "    nPointsLst = [ int(extractNPoints(dct['name'])) for dct in dcts ]\n",
    "    timeTotalLst = [ dct['profile']['timeTotal'] for dct in dcts ]\n",
    "    kernelLst = [ extractKernel(dct['name']) for dct in dcts ]\n",
    "    return pd.DataFrame({\n",
    "        'name': nameLst,\n",
    "        'kernel': kernelLst,\n",
    "        'n_clusters': nClustersLst,\n",
    "        'n_points': nPointsLst,\n",
    "        'time_total': timeTotalLst\n",
    "    })\n",
    "\n",
    "profileDf = makeProfileDf()"
   ]
  },
  {
   "cell_type": "code",
   "execution_count": null,
   "id": "9e3d267c-71e1-4808-87e7-adddacda42fa",
   "metadata": {},
   "outputs": [],
   "source": [
    "profileDf.info()"
   ]
  },
  {
   "cell_type": "code",
   "execution_count": null,
   "id": "4e30dd9f-16c6-4f77-a334-c52287aaa205",
   "metadata": {},
   "outputs": [],
   "source": [
    "for nClusters, grp in profileDf.groupby('n_clusters'):\n",
    "    plt.figure(figsize=(4,3))\n",
    "    for kernel, ggrp in grp.groupby('kernel'):\n",
    "        ggrp = ggrp.sort_values('n_points')\n",
    "        plt.plot(ggrp['n_points'], ggrp['time_total'], label=kernel, marker='x')\n",
    "    plt.title(f'{nClusters}')\n",
    "    plt.xscale('log')\n",
    "    plt.yscale('log')\n",
    "    plt.legend()\n",
    "    plt.show()"
   ]
  },
  {
   "cell_type": "code",
   "execution_count": null,
   "id": "e58b6f18-d99b-4a0d-847d-8f3a9fd7079d",
   "metadata": {},
   "outputs": [],
   "source": []
  }
 ],
 "metadata": {
  "kernelspec": {
   "display_name": "Python 3",
   "language": "python",
   "name": "python3"
  },
  "language_info": {
   "codemirror_mode": {
    "name": "ipython",
    "version": 3
   },
   "file_extension": ".py",
   "mimetype": "text/x-python",
   "name": "python",
   "nbconvert_exporter": "python",
   "pygments_lexer": "ipython3",
   "version": "3.6.9"
  }
 },
 "nbformat": 4,
 "nbformat_minor": 5
}
