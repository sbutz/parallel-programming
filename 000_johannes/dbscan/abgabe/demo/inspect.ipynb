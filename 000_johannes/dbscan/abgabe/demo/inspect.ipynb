{
 "cells": [
  {
   "cell_type": "code",
   "execution_count": null,
   "id": "b28679a1-60c7-4aac-baaf-8b00188782af",
   "metadata": {},
   "outputs": [],
   "source": [
    "import os\n",
    "import subprocess\n",
    "import glob\n",
    "import pandas as pd\n",
    "import io\n",
    "import matplotlib.pyplot as plt\n",
    "import json"
   ]
  },
  {
   "cell_type": "code",
   "execution_count": null,
   "id": "1013d3dd-d0d8-4f5a-93d3-7c38fb4eef29",
   "metadata": {},
   "outputs": [],
   "source": [
    "fileNames = glob.glob(os.path.join('..', 'measurements', '20250226-104107989', '*.json'))\n",
    "dfsWithNames = []\n",
    "for fileName in fileNames:\n",
    "    with open(fileName, 'r') as file:\n",
    "        dct = json.load(file)\n",
    "        df = pd.DataFrame(dct['output'])\n",
    "        dfsWithNames.append({ 'name': os.path.basename(fileName), 'df': df })"
   ]
  },
  {
   "cell_type": "code",
   "execution_count": null,
   "id": "14ff00c6-ba45-4179-affe-f75f76e11522",
   "metadata": {},
   "outputs": [],
   "source": [
    "for entry in dfsWithNames:\n",
    "    df = entry['df']\n",
    "    name = entry['name']\n",
    "    clusters = df.groupby('cluster_id')\n",
    "\n",
    "    plt.figure(figsize=(4,3))\n",
    "    for clusterId, grp in clusters:\n",
    "        plt.scatter(grp['x'], grp['y'], s=4)\n",
    "        plt.xlim(0,44)\n",
    "        plt.ylim(0,25)\n",
    "        plt.title(name)\n",
    "    plt.plot()"
   ]
  },
  {
   "cell_type": "code",
   "execution_count": null,
   "id": "3fda125a-269b-432c-a91e-bdac6457278f",
   "metadata": {},
   "outputs": [],
   "source": [
    "set(df['cluster_id'])"
   ]
  },
  {
   "cell_type": "code",
   "execution_count": null,
   "id": "4e30dd9f-16c6-4f77-a334-c52287aaa205",
   "metadata": {},
   "outputs": [],
   "source": []
  }
 ],
 "metadata": {
  "kernelspec": {
   "display_name": "Python 3",
   "language": "python",
   "name": "python3"
  },
  "language_info": {
   "codemirror_mode": {
    "name": "ipython",
    "version": 3
   },
   "file_extension": ".py",
   "mimetype": "text/x-python",
   "name": "python",
   "nbconvert_exporter": "python",
   "pygments_lexer": "ipython3",
   "version": "3.6.9"
  }
 },
 "nbformat": 4,
 "nbformat_minor": 5
}
