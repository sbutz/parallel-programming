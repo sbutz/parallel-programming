{
 "cells": [
  {
   "cell_type": "code",
   "execution_count": null,
   "id": "b28679a1-60c7-4aac-baaf-8b00188782af",
   "metadata": {},
   "outputs": [],
   "source": [
    "import os\n",
    "import subprocess\n",
    "import pandas as pd\n",
    "import io\n",
    "import matplotlib.pyplot as plt\n",
    "import json"
   ]
  },
  {
   "cell_type": "code",
   "execution_count": null,
   "id": "32931d8e-4e34-426e-9d89-82c2a38a55c1",
   "metadata": {},
   "outputs": [],
   "source": [
    "def runDbscan(dfData, n, r):\n",
    "    inputText = dfData.to_csv(header=None, sep=' ', index=False)\n",
    "    cmd = '../bin/a_andrade'\n",
    "    result = subprocess.run(\n",
    "        [ cmd, '--', f'{n}', f'{r}' ],\n",
    "        input=inputText,\n",
    "        stdout=subprocess.PIPE, universal_newlines=True, check=True\n",
    "    )\n",
    "    dct = json.loads(result.stdout)\n",
    "    return pd.DataFrame(dct['output'])\n",
    "\n",
    "nPoints = 100000\n",
    "nClusters = 10\n",
    "#t = pd.read_csv('../sample_data/data_10_10000.dat', sep=' ', header=None, names=['x', 'y'])\n",
    "t = pd.read_csv(f'../sample_data/data_{nClusters:.0f}_{nPoints:.0f}.dat', sep=' ', header=None, names=['x', 'y'])\n",
    "#t.to_csv(header=None, sep=' ', index=False)"
   ]
  },
  {
   "cell_type": "code",
   "execution_count": null,
   "id": "37a8cc0b-f618-46d2-911f-1ba02471303e",
   "metadata": {},
   "outputs": [],
   "source": [
    "# 10 clusters, 100000 data points, coreThreshold = 2000\n",
    "# -> coreThreshold = min { 10000, nPoints / (nClusters * 5) }\n",
    "\n",
    "df = runDbscan(t, min(10000, int(nPoints / (nClusters * 5))), 1.4)"
   ]
  },
  {
   "cell_type": "code",
   "execution_count": null,
   "id": "18462ec8-dfe4-4e5e-8a93-ad5631178a73",
   "metadata": {},
   "outputs": [],
   "source": [
    "clusters = df.groupby('cluster_id')"
   ]
  },
  {
   "cell_type": "code",
   "execution_count": null,
   "id": "c33967e6-2155-4cca-9ffc-ef6055ae1197",
   "metadata": {},
   "outputs": [],
   "source": [
    "plt.figure(figsize=(24,18))\n",
    "for clusterId, grp in clusters:\n",
    "    #if clusterId != -1:\n",
    "    plt.scatter(grp['x'], grp['y'], s=4)\n",
    "    plt.xlim(0,44)\n",
    "    plt.ylim(0,25)\n",
    "plt.plot()"
   ]
  },
  {
   "cell_type": "code",
   "execution_count": null,
   "id": "49f69d10-dc6d-44dc-9ef9-bf3395657841",
   "metadata": {},
   "outputs": [],
   "source": [
    "dffiltered = df[(df['is_core']==0)&(df['cluster_id']!=0)]\n",
    "plt.figure(figsize=(24,18))\n",
    "plt.scatter(dffiltered['x'], dffiltered['y'], s=4)\n",
    "plt.xlim(0,44)\n",
    "plt.ylim(0,25)\n",
    "plt.plot()"
   ]
  },
  {
   "cell_type": "code",
   "execution_count": null,
   "id": "3fda125a-269b-432c-a91e-bdac6457278f",
   "metadata": {},
   "outputs": [],
   "source": [
    "set(df['cluster_id'])"
   ]
  },
  {
   "cell_type": "code",
   "execution_count": null,
   "id": "9cb0e597-d9f1-4574-899e-6235656b92df",
   "metadata": {},
   "outputs": [],
   "source": []
  },
  {
   "cell_type": "code",
   "execution_count": null,
   "id": "4e30dd9f-16c6-4f77-a334-c52287aaa205",
   "metadata": {},
   "outputs": [],
   "source": [
    "df"
   ]
  },
  {
   "cell_type": "code",
   "execution_count": null,
   "id": "9bd8d6c6-7b8f-4c3c-9929-a8f39faf6b91",
   "metadata": {},
   "outputs": [],
   "source": []
  }
 ],
 "metadata": {
  "kernelspec": {
   "display_name": "Python 3 (ipykernel)",
   "language": "python",
   "name": "python3"
  },
  "language_info": {
   "codemirror_mode": {
    "name": "ipython",
    "version": 3
   },
   "file_extension": ".py",
   "mimetype": "text/x-python",
   "name": "python",
   "nbconvert_exporter": "python",
   "pygments_lexer": "ipython3",
   "version": "3.10.10"
  }
 },
 "nbformat": 4,
 "nbformat_minor": 5
}
