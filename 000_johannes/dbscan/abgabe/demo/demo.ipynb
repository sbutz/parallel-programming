{
 "cells": [
  {
   "cell_type": "code",
   "execution_count": null,
   "id": "b28679a1-60c7-4aac-baaf-8b00188782af",
   "metadata": {},
   "outputs": [],
   "source": [
    "import os\n",
    "import subprocess\n",
    "import pandas as pd\n",
    "import io\n",
    "import matplotlib.pyplot as plt\n",
    "import json"
   ]
  },
  {
   "cell_type": "code",
   "execution_count": null,
   "id": "32931d8e-4e34-426e-9d89-82c2a38a55c1",
   "metadata": {},
   "outputs": [],
   "source": [
    "def runDbscan(dfData, n, r):\n",
    "    inputText = dfData.to_csv(header=None, sep=' ', index=False)\n",
    "    cmd = '../bin/a_andrade'\n",
    "    result = subprocess.run(\n",
    "        [ cmd, '--', f'{n}', f'{r}' ],\n",
    "        input=inputText,\n",
    "        stdout=subprocess.PIPE, universal_newlines=True, check=True\n",
    "    )\n",
    "    dct = json.loads(result.stdout)\n",
    "    return pd.DataFrame(dct['output'])\n",
    "\n",
    "nPoints = 10000\n",
    "nClusters = 4\n",
    "#t = pd.read_csv('../sample_data/data_10_10000.dat', sep=' ', header=None, names=['x', 'y'])\n",
    "t = pd.read_csv(f'../sample_data/data_{nClusters:.0f}_{nPoints:.0f}.dat', sep=' ', header=None, names=['x', 'y'])\n",
    "#t.to_csv(header=None, sep=' ', index=False)"
   ]
  },
  {
   "cell_type": "code",
   "execution_count": null,
   "id": "37a8cc0b-f618-46d2-911f-1ba02471303e",
   "metadata": {},
   "outputs": [],
   "source": [
    "# 10 clusters, 100000 data points, coreThreshold = 2000\n",
    "# -> coreThreshold = min { 10000, nPoints / (nClusters * 5) }\n",
    "\n",
    "df = runDbscan(t, min(10000, int(nPoints / (nClusters * 5))), 1.4)"
   ]
  },
  {
   "cell_type": "code",
   "execution_count": null,
   "id": "18462ec8-dfe4-4e5e-8a93-ad5631178a73",
   "metadata": {},
   "outputs": [],
   "source": [
    "clusters = df.groupby('cluster_id')"
   ]
  },
  {
   "cell_type": "code",
   "execution_count": null,
   "id": "c33967e6-2155-4cca-9ffc-ef6055ae1197",
   "metadata": {},
   "outputs": [],
   "source": [
    "plt.figure(figsize=(24,18))\n",
    "for clusterId, grp in clusters:\n",
    "    plt.scatter(grp['x'], grp['y'], s=4)\n",
    "    plt.xlim(0,44)\n",
    "    plt.ylim(0,25)\n",
    "plt.plot()"
   ]
  },
  {
   "cell_type": "code",
   "execution_count": null,
   "id": "3fda125a-269b-432c-a91e-bdac6457278f",
   "metadata": {},
   "outputs": [],
   "source": [
    "set(df['cluster_id'])"
   ]
  },
  {
   "cell_type": "code",
   "execution_count": null,
   "id": "4e30dd9f-16c6-4f77-a334-c52287aaa205",
   "metadata": {},
   "outputs": [],
   "source": []
  }
 ],
 "metadata": {
  "kernelspec": {
   "display_name": "Python 3",
   "language": "python",
   "name": "python3"
  },
  "language_info": {
   "codemirror_mode": {
    "name": "ipython",
    "version": 3
   },
   "file_extension": ".py",
   "mimetype": "text/x-python",
   "name": "python",
   "nbconvert_exporter": "python",
   "pygments_lexer": "ipython3",
   "version": "3.6.9"
  }
 },
 "nbformat": 4,
 "nbformat_minor": 5
}
