{
 "cells": [
  {
   "cell_type": "code",
   "execution_count": null,
   "id": "163a3c2d-0376-4d33-afe3-79a687159b9a",
   "metadata": {},
   "outputs": [],
   "source": [
    "import os\n",
    "import json\n",
    "import numpy as np\n",
    "import matplotlib.pyplot as plt\n",
    "import random"
   ]
  },
  {
   "cell_type": "code",
   "execution_count": null,
   "id": "a065444c-a207-4a72-a036-53b0d2a9cd99",
   "metadata": {},
   "outputs": [],
   "source": [
    "colors = [\n",
    "    \"#FF6347\", \"#FF4500\", \"#00FFFF\", \"#1E90FF\", \"#4169E1\", \n",
    "    \"#00FA9A\", \"#40E0D0\", \"#FF8C00\", \"#FFA500\", \"#FFD700\",\n",
    "    \"#FF1493\", \"#D2691E\",  \"#800000\", \"#006400\", \"#228B22\",\n",
    "    \"#FF0000\", \"#8B0000\", \"#8B4513\", \"#A52A2A\", \"#B22222\", \n",
    "    \"#FFFF00\", \"#9ACD32\", \"#F08080\", \"#FF7F50\", \"#FF6347\", \n",
    "    \"#6B8E23\", \"#808000\", \"#DDA0DD\", \"#EE82EE\", \"#FF00FF\", \n",
    "    \"#FF69B4\", \"#C71585\", \"#32CD32\", \"#98FB98\", \"#00FF7F\", \n",
    "    \"#8A2BE2\", \"#9B30FF\", \"#FF00FF\", \"#C71585\", \"#DC143C\", \n",
    "    \"#F4A460\", \"#D2B48C\", \"#BC8F8F\", \"#F5DEB3\", \"#FF4500\", \n",
    "    \"#7CFC00\", \"#00FA9A\", \"#40E0D0\", \"#00CED1\", \"#48D1CC\", \n",
    "    \"#20B2AA\", \"#008B8B\", \"#3CB371\", \"#2E8B57\", \"#9ACD32\", \n",
    "    \"#6B8E23\", \"#808000\", \"#C71585\", \"#8A2BE2\", \"#4B0082\", \n",
    "    \"#9400D3\", \"#9932CC\", \"#8B008B\", \"#DDA0DD\", \"#EE82EE\", \n",
    "    \"#F0E68C\", \"#BDB76B\", \"#A52A2A\", \"#FF0000\", \"#B22222\", \n",
    "    \"#8B0000\", \"#800000\", \"#FFD700\", \"#FFFF00\", \"#9ACD32\", \n",
    "    \"#32CD32\", \"#98FB98\", \"#00FF7F\", \"#00FA9A\", \"#40E0D0\", \n",
    "    \"#00FFFF\", \"#1E90FF\", \"#4169E1\", \"#8A2BE2\", \"#9B30FF\", \n",
    "    \"#FF00FF\", \"#C71585\", \"#DC143C\", \"#FF1493\", \"#D2691E\", \n",
    "    \"#8B4513\", \"#A52A2A\", \"#B22222\", \"#FF0000\", \"#8B0000\", \n",
    "    \"#800000\", \"#006400\", \"#228B22\", \"#6B8E23\", \"#808000\", \n",
    "    \"#DDA0DD\", \"#EE82EE\", \"#FF00FF\", \"#FF69B4\", \"#C71585\", \n",
    "    \"#F08080\", \"#FF7F50\", \"#FF6347\", \"#F4A460\", \"#D2B48C\", \n",
    "    \"#BC8F8F\", \"#F5DEB3\", \"#FF4500\", \"#7CFC00\", \"#00FA9A\", \n",
    "    \"#40E0D0\", \"#00CED1\", \"#48D1CC\", \"#20B2AA\", \"#008B8B\", \n",
    "    \"#3CB371\", \"#2E8B57\", \"#9ACD32\", \"#6B8E23\", \"#808000\", \n",
    "    \"#C71585\", \"#8A2BE2\", \"#4B0082\", \"#9400D3\", \"#9932CC\", \n",
    "    \"#8B008B\", \"#DDA0DD\", \"#EE82EE\", \"#F0E68C\", \"#BDB76B\", \n",
    "    \"#A52A2A\", \"#FF0000\", \"#B22222\", \"#8B0000\", \"#800000\", \n",
    "    \"#FFD700\", \"#FFFF00\", \"#9ACD32\", \"#32CD32\", \"#98FB98\", \n",
    "    \"#00FF7F\", \"#00FA9A\", \"#40E0D0\", \"#00FFFF\", \"#1E90FF\", \n",
    "    \"#4169E1\", \"#8A2BE2\", \"#9B30FF\", \"#FF00FF\", \"#C71585\", \n",
    "    \"#DC143C\", \"#FF1493\", \"#D2691E\", \"#8B4513\", \"#A52A2A\", \n",
    "    \"#B22222\", \"#FF0000\", \"#8B0000\", \"#800000\", \"#006400\", \n",
    "    \"#228B22\", \"#6B8E23\", \"#808000\", \"#DDA0DD\", \"#EE82EE\"\n",
    "]  \n",
    "random.shuffle(colors)\n",
    "colors = [ \"grey\" ] + colors\n"
   ]
  },
  {
   "cell_type": "code",
   "execution_count": null,
   "id": "fc269d4c-2aa7-415f-849b-3cf11e45132c",
   "metadata": {},
   "outputs": [],
   "source": [
    "inputFilePath = os.path.join('..', 'results', 'cboehm_10_10000.json')\n",
    "with open(inputFilePath, 'r') as file:\n",
    "    dataDct = json.load(file)"
   ]
  },
  {
   "cell_type": "code",
   "execution_count": null,
   "id": "2007a61b-afe7-4245-a7e5-6ce71c66ee6b",
   "metadata": {},
   "outputs": [],
   "source": [
    "outputDf = pd.DataFrame(dataDct['output'])\n",
    "nPoints = outputDf.shape[0]\n",
    "lastNProcessed = 0\n",
    "for idx, stepDct in enumerate(dataDct['steps']):\n",
    "    outputDf[f'is_core_{idx:04.0f}'] = dataDct['steps'][idx]['is_core']\n",
    "    outputDf[f'cluster_id_{idx:04.0f}'] = dataDct['steps'][idx]['clusters']\n",
    "    curNProcessed = dataDct['steps'][idx]['endCur']\n",
    "    outputDf[f'processed_{idx:04.0f}'] = [ (2 if i >= lastNProcessed else 1) if i < curNProcessed else 0 for i in range(0,nPoints) ]\n",
    "    lastNProcessed = curNProcessed\n",
    "nSteps = len(dataDct['steps'])"
   ]
  },
  {
   "cell_type": "code",
   "execution_count": null,
   "id": "5be12229-3594-479f-8a52-0950978f2152",
   "metadata": {},
   "outputs": [],
   "source": [
    "outputDf"
   ]
  },
  {
   "cell_type": "code",
   "execution_count": null,
   "id": "828cc4c1-8070-46d1-82f8-49d8691c8891",
   "metadata": {},
   "outputs": [],
   "source": [
    "outputDir = os.path.join('..', 'plots')\n",
    "os.makedirs(outputDir, exist_ok=True)\n",
    "\n",
    "\n",
    "def createPlot(vs):\n",
    "    fig, ax = plt.subplots(figsize=(20,15))\n",
    "    plt.xlabel('x')\n",
    "    plt.ylabel('y', rotation=0)\n",
    "    plt.xlim(0,40)\n",
    "    plt.ylim(0,25)\n",
    "    \n",
    "    xs = outputDf['x']\n",
    "    ys = outputDf['y']\n",
    "\n",
    "    clusterColName = f'cluster_id_{vs:04.0f}'\n",
    "    processedDf = outputDf[outputDf[f'processed_{vs:04.0f}']>=1]\n",
    "    unprocessedDf = outputDf[outputDf[f'processed_{vs:04.0f}']==0]\n",
    "    plt.scatter(unprocessedDf['x'], unprocessedDf['y'], s=60, color='black', marker='x')\n",
    "    for cl, grp in processedDf.groupby(clusterColName):\n",
    "        xsCoreCurProcessed = grp[(grp[f'is_core_{vs:04.0f}'] == 1) * (grp[f'processed_{vs:04.0f}'] == 2)]['x']\n",
    "        ysCoreCurProcessed = grp[(grp[f'is_core_{vs:04.0f}'] == 1) * (grp[f'processed_{vs:04.0f}'] == 2)]['y']\n",
    "        xsCoreProcessed = grp[(grp[f'is_core_{vs:04.0f}'] == 1) * (grp[f'processed_{vs:04.0f}'] == 1)]['x']\n",
    "        ysCoreProcessed = grp[(grp[f'is_core_{vs:04.0f}'] == 1) * (grp[f'processed_{vs:04.0f}'] == 1)]['y']\n",
    "        xsNonCore = grp[grp[f'is_core_{vs:04.0f}'] == 0]['x']\n",
    "        ysNonCore = grp[grp[f'is_core_{vs:04.0f}'] == 0]['y']\n",
    "\n",
    "        plt.scatter(xsNonCore, ysNonCore, s=60, facecolor='none', marker='o', linewidth=2, color=colors[cl % len(colors)])\n",
    "        plt.scatter(xsCoreProcessed, ysCoreProcessed, s=60, color=colors[cl % len(colors)])\n",
    "        plt.scatter(xsCoreCurProcessed, ysCoreCurProcessed, s=60, color=colors[cl % len(colors)], edgecolor='black')\n",
    "        \n",
    "    nProcessed = processedDf.shape[0]\n",
    "    if vs == 0:\n",
    "        explanation = 'initial'\n",
    "    elif vs % 2 == 1:\n",
    "        explanation = f'{nProcessed:.0f} points processed, before collision handling'\n",
    "    else:\n",
    "        explanation = f'{nProcessed:.0f} points processed, after collision handling'\n",
    "    ax.text(1, 24, explanation, fontsize=20)\n",
    "    \n",
    "    return fig\n",
    "\n",
    "\n",
    "    #plt.show()\n",
    "\n",
    "    \n",
    "for vs in range(0,nSteps):\n",
    "    fig = createPlot(vs)\n",
    "\n",
    "    fig.savefig(os.path.join(outputDir, f'cboehm_{vs:03.0f}.png'), format='png', bbox_inches='tight')"
   ]
  },
  {
   "cell_type": "code",
   "execution_count": null,
   "id": "5b5d29d0-aa5b-4639-a785-e2580081516e",
   "metadata": {},
   "outputs": [],
   "source": [
    "set(outputDf['cluster_id'])"
   ]
  },
  {
   "cell_type": "code",
   "execution_count": null,
   "id": "1a5f6457-c3d5-49e8-9c27-a5cc54a7cc06",
   "metadata": {},
   "outputs": [],
   "source": []
  }
 ],
 "metadata": {
  "kernelspec": {
   "display_name": "Python 3",
   "language": "python",
   "name": "python3"
  },
  "language_info": {
   "codemirror_mode": {
    "name": "ipython",
    "version": 3
   },
   "file_extension": ".py",
   "mimetype": "text/x-python",
   "name": "python",
   "nbconvert_exporter": "python",
   "pygments_lexer": "ipython3",
   "version": "3.6.9"
  }
 },
 "nbformat": 4,
 "nbformat_minor": 5
}
