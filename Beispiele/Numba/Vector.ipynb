{
 "cells": [
  {
   "cell_type": "code",
   "execution_count": 1,
   "id": "53bfabc7-885c-4356-86e2-e804a26ea111",
   "metadata": {},
   "outputs": [],
   "source": [
    "import numpy as np\n",
    "from numba import cuda "
   ]
  },
  {
   "cell_type": "code",
   "execution_count": 2,
   "id": "5eb6c37d-b122-4f3c-9b66-3bcd8f926ec5",
   "metadata": {},
   "outputs": [],
   "source": [
    "@cuda.jit('void(float64 [:], float64[:], float64[:])') \n",
    "def f(a, b, c):\n",
    "    # like threadIdx.x + (blockIdx.x * blockDim.x)\n",
    "    tid = cuda.grid(1)\n",
    "    size = len(c)\n",
    "    if tid < size:\n",
    "        c[tid] = a[tid] + b[tid]"
   ]
  },
  {
   "cell_type": "code",
   "execution_count": 3,
   "id": "9715d1e6-667d-4e59-93e0-5a66558f2c19",
   "metadata": {},
   "outputs": [],
   "source": [
    "start = cuda.event(timing=True)\n",
    "stop = cuda.event(timing=True)"
   ]
  },
  {
   "cell_type": "code",
   "execution_count": 11,
   "id": "f3c0af55-8910-4fe1-9e02-611b66308e81",
   "metadata": {},
   "outputs": [
    {
     "name": "stdout",
     "output_type": "stream",
     "text": [
      "It took me 11.001376152038574 mseconds to get data to GPU\n",
      "It took me 0.2717440128326416 mseconds to add vectors on the GPU\n",
      "It took me 5.0920000076293945 mseconds to copy result back\n"
     ]
    }
   ],
   "source": [
    "N = 1000000\n",
    "h_a  = np.random.random(N)\n",
    "h_b = np.random.random(N)\n",
    "start.record()\n",
    "d_a = cuda.to_device(h_a)\n",
    "d_b = cuda.to_device(h_b)\n",
    "stop.record()\n",
    "stop.synchronize()\n",
    "time = start.elapsed_time(stop)\n",
    "\n",
    "print(\"It took me {} mseconds to get data to GPU\".format(time))\n",
    "d_c = cuda.device_array_like(d_a)\n",
    "start.record()\n",
    "f[N//256, 256](d_a, d_b, d_c)\n",
    "stop.record()\n",
    "stop.synchronize()\n",
    "time = start.elapsed_time(stop)\n",
    "print(\"It took me {} mseconds to add vectors on the GPU\".format(time))\n",
    "start.record()\n",
    "c = d_c.copy_to_host()\n",
    "stop.record()\n",
    "stop.synchronize()\n",
    "time = start.elapsed_time(stop)\n",
    "print(\"It took me {} mseconds to copy result back\".format(time))"
   ]
  },
  {
   "cell_type": "code",
   "execution_count": null,
   "id": "5ca82f2d-2491-41fb-8f7b-b80da28a585c",
   "metadata": {},
   "outputs": [],
   "source": []
  }
 ],
 "metadata": {
  "kernelspec": {
   "display_name": "Python 3 (ipykernel)",
   "language": "python",
   "name": "python3"
  },
  "language_info": {
   "codemirror_mode": {
    "name": "ipython",
    "version": 3
   },
   "file_extension": ".py",
   "mimetype": "text/x-python",
   "name": "python",
   "nbconvert_exporter": "python",
   "pygments_lexer": "ipython3",
   "version": "3.11.7"
  }
 },
 "nbformat": 4,
 "nbformat_minor": 5
}
